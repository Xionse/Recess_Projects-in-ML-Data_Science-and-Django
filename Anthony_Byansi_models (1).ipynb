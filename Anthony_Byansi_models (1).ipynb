{
  "nbformat": 4,
  "nbformat_minor": 0,
  "metadata": {
    "colab": {
      "provenance": []
    },
    "kernelspec": {
      "name": "python3",
      "display_name": "Python 3"
    },
    "language_info": {
      "name": "python"
    }
  },
  "cells": [
    {
      "cell_type": "markdown",
      "source": [
        "## Machine Learning Models 🤖\n",
        "[Github Repo](https://github.com/AnthonyByansi?tab=followers)"
      ],
      "metadata": {
        "id": "W8ZfSkUqzY6w"
      }
    },
    {
      "cell_type": "markdown",
      "source": [
        "### 1. Logistic Regression 📈\n",
        "- A simple linear classification algorithm used for binary classification tasks.\n",
        "- It models the probability of a binary outcome using a logistic function.\n",
        "- Works well when the decision boundary is linear and the features are not highly correlated.\n"
      ],
      "metadata": {
        "id": "ZNuyJIyi0N8b"
      }
    },
    {
      "cell_type": "code",
      "execution_count": null,
      "metadata": {
        "colab": {
          "base_uri": "https://localhost:8080/"
        },
        "id": "gNPwB95dx_5S",
        "outputId": "3f1d12e6-c0d3-458e-9414-b0de025d2fca"
      },
      "outputs": [
        {
          "output_type": "execute_result",
          "data": {
            "text/plain": [
              "1    526\n",
              "0    499\n",
              "Name: target, dtype: int64"
            ]
          },
          "metadata": {},
          "execution_count": 22
        }
      ],
      "source": [
        "import pandas as pd\n",
        "import matplotlib.pyplot as plt\n",
        "import seaborn as sns\n",
        "import plotly.graph_objects as go\n",
        "import numpy as np\n",
        "\n",
        "df = pd.read_csv(\"/content/heart_disease.csv\")\n",
        "\n",
        "df.target.value_counts()"
      ]
    },
    {
      "cell_type": "code",
      "source": [
        "print(df.head())\n",
        "print(df.info())\n",
        "print(df.describe())"
      ],
      "metadata": {
        "colab": {
          "base_uri": "https://localhost:8080/"
        },
        "id": "ZyX0gLmA2m77",
        "outputId": "7b66090e-f635-4e7c-bfa7-ced29faed253"
      },
      "execution_count": null,
      "outputs": [
        {
          "output_type": "stream",
          "name": "stdout",
          "text": [
            "   age  sex  cp  trestbps  chol  fbs  restecg  thalach  exang  oldpeak  slope  \\\n",
            "0   52    1   0       125   212    0        1      168      0      1.0      2   \n",
            "1   53    1   0       140   203    1        0      155      1      3.1      0   \n",
            "2   70    1   0       145   174    0        1      125      1      2.6      0   \n",
            "3   61    1   0       148   203    0        1      161      0      0.0      2   \n",
            "4   62    0   0       138   294    1        1      106      0      1.9      1   \n",
            "\n",
            "   ca  thal  target  \n",
            "0   2     3       0  \n",
            "1   0     3       0  \n",
            "2   0     3       0  \n",
            "3   1     3       0  \n",
            "4   3     2       0  \n",
            "<class 'pandas.core.frame.DataFrame'>\n",
            "RangeIndex: 1025 entries, 0 to 1024\n",
            "Data columns (total 14 columns):\n",
            " #   Column    Non-Null Count  Dtype  \n",
            "---  ------    --------------  -----  \n",
            " 0   age       1025 non-null   int64  \n",
            " 1   sex       1025 non-null   int64  \n",
            " 2   cp        1025 non-null   int64  \n",
            " 3   trestbps  1025 non-null   int64  \n",
            " 4   chol      1025 non-null   int64  \n",
            " 5   fbs       1025 non-null   int64  \n",
            " 6   restecg   1025 non-null   int64  \n",
            " 7   thalach   1025 non-null   int64  \n",
            " 8   exang     1025 non-null   int64  \n",
            " 9   oldpeak   1025 non-null   float64\n",
            " 10  slope     1025 non-null   int64  \n",
            " 11  ca        1025 non-null   int64  \n",
            " 12  thal      1025 non-null   int64  \n",
            " 13  target    1025 non-null   int64  \n",
            "dtypes: float64(1), int64(13)\n",
            "memory usage: 112.2 KB\n",
            "None\n",
            "               age          sex           cp     trestbps        chol  \\\n",
            "count  1025.000000  1025.000000  1025.000000  1025.000000  1025.00000   \n",
            "mean     54.434146     0.695610     0.942439   131.611707   246.00000   \n",
            "std       9.072290     0.460373     1.029641    17.516718    51.59251   \n",
            "min      29.000000     0.000000     0.000000    94.000000   126.00000   \n",
            "25%      48.000000     0.000000     0.000000   120.000000   211.00000   \n",
            "50%      56.000000     1.000000     1.000000   130.000000   240.00000   \n",
            "75%      61.000000     1.000000     2.000000   140.000000   275.00000   \n",
            "max      77.000000     1.000000     3.000000   200.000000   564.00000   \n",
            "\n",
            "               fbs      restecg      thalach        exang      oldpeak  \\\n",
            "count  1025.000000  1025.000000  1025.000000  1025.000000  1025.000000   \n",
            "mean      0.149268     0.529756   149.114146     0.336585     1.071512   \n",
            "std       0.356527     0.527878    23.005724     0.472772     1.175053   \n",
            "min       0.000000     0.000000    71.000000     0.000000     0.000000   \n",
            "25%       0.000000     0.000000   132.000000     0.000000     0.000000   \n",
            "50%       0.000000     1.000000   152.000000     0.000000     0.800000   \n",
            "75%       0.000000     1.000000   166.000000     1.000000     1.800000   \n",
            "max       1.000000     2.000000   202.000000     1.000000     6.200000   \n",
            "\n",
            "             slope           ca         thal       target  \n",
            "count  1025.000000  1025.000000  1025.000000  1025.000000  \n",
            "mean      1.385366     0.754146     2.323902     0.513171  \n",
            "std       0.617755     1.030798     0.620660     0.500070  \n",
            "min       0.000000     0.000000     0.000000     0.000000  \n",
            "25%       1.000000     0.000000     2.000000     0.000000  \n",
            "50%       1.000000     0.000000     2.000000     1.000000  \n",
            "75%       2.000000     1.000000     3.000000     1.000000  \n",
            "max       2.000000     4.000000     3.000000     1.000000  \n"
          ]
        }
      ]
    },
    {
      "cell_type": "markdown",
      "source": [
        "#### Logistic Regression"
      ],
      "metadata": {
        "id": "6uC5H2ZJ5Ex_"
      }
    },
    {
      "cell_type": "code",
      "source": [
        "from sklearn.linear_model import LogisticRegression\n",
        "from sklearn.metrics import accuracy_score\n",
        "\n",
        "# Create and train the logistic regression model\n",
        "logreg = LogisticRegression()\n",
        "logreg.fit(X_train_scaled, y_train)\n",
        "\n",
        "# Make predictions\n",
        "y_pred_logreg = logreg.predict(X_test_scaled)\n",
        "\n",
        "# Calculate accuracy\n",
        "accuracy_logreg = accuracy_score(y_test, y_pred_logreg)\n",
        "print(f\"Logistic Regression Accuracy: {accuracy_logreg}\")\n"
      ],
      "metadata": {
        "colab": {
          "base_uri": "https://localhost:8080/"
        },
        "id": "2lfHME4q5Doe",
        "outputId": "1542bdad-825a-4fb5-d742-e47d55d5c0b7"
      },
      "execution_count": null,
      "outputs": [
        {
          "output_type": "stream",
          "name": "stdout",
          "text": [
            "Logistic Regression Accuracy: 0.7902439024390244\n"
          ]
        }
      ]
    },
    {
      "cell_type": "code",
      "source": [
        "import matplotlib.pyplot as plt\n",
        "import seaborn as sns\n",
        "from sklearn.metrics import roc_curve, roc_auc_score\n",
        "\n",
        "# Plot ROC curve for Logistic Regression\n",
        "y_prob_logreg = logreg.predict_proba(X_test_scaled)[:, 1]\n",
        "fpr, tpr, thresholds = roc_curve(y_test, y_prob_logreg)\n",
        "\n",
        "plt.figure(figsize=(8, 6))\n",
        "plt.plot(fpr, tpr, label='Logistic Regression')\n",
        "plt.plot([0, 1], [0, 1], 'k--', label='Random')\n",
        "plt.xlabel('False Positive Rate')\n",
        "plt.ylabel('True Positive Rate')\n",
        "plt.title('ROC Curve - Logistic Regression')\n",
        "plt.legend()\n",
        "plt.show()\n",
        "\n",
        "# Calculate and plot AUC (Area Under the Curve)\n",
        "auc_logreg = roc_auc_score(y_test, y_prob_logreg)\n",
        "plt.figure(figsize=(6, 4))\n",
        "sns.barplot(x=['Logistic Regression'], y=[auc_logreg])\n",
        "plt.ylabel('AUC Score')\n",
        "plt.title('AUC Score - Logistic Regression')\n",
        "plt.show()\n"
      ],
      "metadata": {
        "colab": {
          "base_uri": "https://localhost:8080/",
          "height": 889
        },
        "id": "5gXKUIX06pJX",
        "outputId": "f2dfea17-bb52-4ab4-9c02-3bc67b054123"
      },
      "execution_count": null,
      "outputs": [
        {
          "output_type": "display_data",
          "data": {
            "text/plain": [
              "<Figure size 800x600 with 1 Axes>"
            ],
            "image/png": "[encoded data removed]"
          },
          "metadata": {}
        },
        {
          "output_type": "display_data",
          "data": {
            "text/plain": [
              "<Figure size 600x400 with 1 Axes>"
            ],
            "image/png": "[encoded data removed]"
          },
          "metadata": {}
        }
      ]
    },
    {
      "cell_type": "markdown",
      "source": [
        "### 2. KNN - K-nearest neighbor 🧙‍♂️\n",
        "- A lazy, non-parametric algorithm used for both classification and regression tasks.\n",
        "- Predicts the class of a data point based on the majority class of its k-nearest neighbors.\n",
        "- Performs well with small to medium-sized datasets and doesn't require training.\n"
      ],
      "metadata": {
        "id": "u8z1K-xz3r35"
      }
    },
    {
      "cell_type": "markdown",
      "source": [],
      "metadata": {
        "id": "A4YmlzfH5iPn"
      }
    },
    {
      "cell_type": "markdown",
      "source": [
        "### Model 2: KNN - K-nearest neighbor"
      ],
      "metadata": {
        "id": "Oa84E9nc5h3Y"
      }
    },
    {
      "cell_type": "code",
      "source": [
        "from sklearn.neighbors import KNeighborsClassifier\n",
        "\n",
        "# Create and train the KNN model\n",
        "knn = KNeighborsClassifier(n_neighbors=5)\n",
        "knn.fit(X_train_scaled, y_train)\n",
        "\n",
        "# Make predictions\n",
        "y_pred_knn = knn.predict(X_test_scaled)\n",
        "\n",
        "# Calculate accuracy\n",
        "accuracy_knn = accuracy_score(y_test, y_pred_knn)\n",
        "print(f\"KNN Accuracy: {accuracy_knn}\")\n"
      ],
      "metadata": {
        "colab": {
          "base_uri": "https://localhost:8080/"
        },
        "id": "GTLU0H3w5OC6",
        "outputId": "3077ebd8-d06f-4e59-b554-c77d33df1682"
      },
      "execution_count": null,
      "outputs": [
        {
          "output_type": "stream",
          "name": "stdout",
          "text": [
            "KNN Accuracy: 0.8682926829268293\n"
          ]
        }
      ]
    },
    {
      "cell_type": "markdown",
      "source": [
        "### 3. SVM - Support Vector Machines ✨\n",
        "- A powerful supervised learning algorithm used for both classification and regression tasks.\n",
        "- Finds the optimal hyperplane that best separates classes in the feature space.\n",
        "- Effective for high-dimensional data and can handle non-linear decision boundaries using the kernel trick.\n"
      ],
      "metadata": {
        "id": "rsFrEfte3wWT"
      }
    },
    {
      "cell_type": "markdown",
      "source": [
        "### Model 3: SVM - Support Vector Machines\n"
      ],
      "metadata": {
        "id": "YSNyFt-r5YW3"
      }
    },
    {
      "cell_type": "code",
      "source": [
        "from sklearn.svm import SVC\n",
        "\n",
        "# Create and train the SVM model\n",
        "svm = SVC(kernel='linear')\n",
        "svm.fit(X_train_scaled, y_train)\n",
        "\n",
        "# Make predictions\n",
        "y_pred_svm = svm.predict(X_test_scaled)\n",
        "\n",
        "# Calculate accuracy\n",
        "accuracy_svm = accuracy_score(y_test, y_pred_svm)\n",
        "print(f\"SVM Accuracy: {accuracy_svm}\")\n"
      ],
      "metadata": {
        "colab": {
          "base_uri": "https://localhost:8080/"
        },
        "id": "GS2n1jq55Sde",
        "outputId": "d57913ae-7226-4067-e0be-df7297800a4c"
      },
      "execution_count": null,
      "outputs": [
        {
          "output_type": "stream",
          "name": "stdout",
          "text": [
            "SVM Accuracy: 0.8097560975609757\n"
          ]
        }
      ]
    },
    {
      "cell_type": "markdown",
      "source": [
        "### 4. Naive Bayes - Gaussian Naive Bayes 🍺\n",
        "- A probabilistic algorithm based on Bayes' theorem and assumes independence among features.\n",
        "- Suitable for text classification and spam filtering tasks.\n",
        "- Efficient and works well with high-dimensional data."
      ],
      "metadata": {
        "id": "NAVesmMi3yMS"
      }
    },
    {
      "cell_type": "code",
      "source": [
        "from sklearn.naive_bayes import GaussianNB\n",
        "\n",
        "# Create and train the Gaussian Naive Bayes model\n",
        "nb = GaussianNB()\n",
        "nb.fit(X_train_scaled, y_train)\n",
        "\n",
        "# Make predictions\n",
        "y_pred_nb = nb.predict(X_test_scaled)\n",
        "\n",
        "# Calculate accuracy\n",
        "accuracy_nb = accuracy_score(y_test, y_pred_nb)\n",
        "print(f\"Gaussian Naive Bayes Accuracy: {accuracy_nb}\")\n"
      ],
      "metadata": {
        "colab": {
          "base_uri": "https://localhost:8080/"
        },
        "id": "f1-w1X055x_8",
        "outputId": "ef9eb15c-7d1c-4571-b8c7-59f2e2c4f26a"
      },
      "execution_count": null,
      "outputs": [
        {
          "output_type": "stream",
          "name": "stdout",
          "text": [
            "Gaussian Naive Bayes Accuracy: 0.751219512195122\n"
          ]
        }
      ]
    },
    {
      "cell_type": "markdown",
      "source": [
        "### 5. Decision Tree Classifier 🌳\n",
        "- A non-parametric supervised learning algorithm used for classification tasks.\n",
        "- Divides the feature space into segments using binary tree-like structures based on feature thresholds.\n",
        "- Easy to interpret and visualize, but prone to overfitting.\n"
      ],
      "metadata": {
        "id": "twFAsOLX330G"
      }
    },
    {
      "cell_type": "code",
      "source": [
        "from sklearn.tree import DecisionTreeClassifier\n",
        "\n",
        "# Create and train the Decision Tree model\n",
        "dt = DecisionTreeClassifier()\n",
        "dt.fit(X_train_scaled, y_train)\n",
        "\n",
        "# Make predictions\n",
        "y_pred_dt = dt.predict(X_test_scaled)\n",
        "\n",
        "# Calculate accuracy\n",
        "accuracy_dt = accuracy_score(y_test, y_pred_dt)\n",
        "print(f\"Decision Tree Accuracy: {accuracy_dt}\")\n"
      ],
      "metadata": {
        "colab": {
          "base_uri": "https://localhost:8080/"
        },
        "id": "uBVuWoXh53U2",
        "outputId": "ddeaf829-23d2-4066-9204-5ed809004dbe"
      },
      "execution_count": null,
      "outputs": [
        {
          "output_type": "stream",
          "name": "stdout",
          "text": [
            "Decision Tree Accuracy: 0.9853658536585366\n"
          ]
        }
      ]
    },
    {
      "cell_type": "markdown",
      "source": [
        "### 6. Random Forest Classifier 🌲🌳\n",
        "- An ensemble method that combines multiple decision trees to improve performance and reduce overfitting.\n",
        "- Builds a forest of trees and aggregates their predictions to make the final decision.\n",
        "- Robust and works well with large datasets and high-dimensional features.\n"
      ],
      "metadata": {
        "id": "aantZONG365H"
      }
    },
    {
      "cell_type": "code",
      "source": [
        "from sklearn.ensemble import RandomForestClassifier\n",
        "\n",
        "# Create and train the Random Forest model\n",
        "rf = RandomForestClassifier(n_estimators=100, random_state=42)\n",
        "rf.fit(X_train_scaled, y_train)\n",
        "\n",
        "# Make predictions\n",
        "y_pred_rf = rf.predict(X_test_scaled)\n",
        "\n",
        "# Calculate accuracy\n",
        "accuracy_rf = accuracy_score(y_test, y_pred_rf)\n",
        "print(f\"Random Forest Accuracy: {accuracy_rf}\")\n"
      ],
      "metadata": {
        "colab": {
          "base_uri": "https://localhost:8080/"
        },
        "id": "kQYPAYmt57x3",
        "outputId": "b18950bb-ad9f-4bbe-a14d-7bae7021a284"
      },
      "execution_count": null,
      "outputs": [
        {
          "output_type": "stream",
          "name": "stdout",
          "text": [
            "Random Forest Accuracy: 0.9853658536585366\n"
          ]
        }
      ]
    },
    {
      "cell_type": "markdown",
      "source": [
        "### 7. Confusion Matrices 📊\n",
        "- Not a machine learning model, but a performance evaluation tool.\n",
        "- Summarizes the performance of a classification algorithm by showing the counts of true positive, false positive, true negative, and false negative predictions.\n",
        "- Useful for calculating various evaluation metrics like accuracy, precision, recall, and F1-score."
      ],
      "metadata": {
        "id": "crG7EWpf3-oV"
      }
    },
    {
      "cell_type": "code",
      "source": [
        "from sklearn.metrics import confusion_matrix\n",
        "\n",
        "# Calculate confusion matrices for each model\n",
        "conf_matrix_logreg = confusion_matrix(y_test, y_pred_logreg)\n",
        "conf_matrix_knn = confusion_matrix(y_test, y_pred_knn)\n",
        "conf_matrix_svm = confusion_matrix(y_test, y_pred_svm)\n",
        "conf_matrix_nb = confusion_matrix(y_test, y_pred_nb)\n",
        "conf_matrix_dt = confusion_matrix(y_test, y_pred_dt)\n",
        "conf_matrix_rf = confusion_matrix(y_test, y_pred_rf)\n",
        "\n",
        "print(\"Confusion Matrix for Logistic Regression:\")\n",
        "print(conf_matrix_logreg)\n",
        "print(\"Confusion Matrix for KNN:\")\n",
        "print(conf_matrix_knn)\n",
        "print(\"Confusion Matrix for SVM:\")\n",
        "print(conf_matrix_svm)\n",
        "print(\"Confusion Matrix for Gaussian Naive Bayes:\")\n",
        "print(conf_matrix_nb)\n",
        "print(\"Confusion Matrix for Decision Tree:\")\n",
        "print(conf_matrix_dt)\n",
        "print(\"Confusion Matrix for Random Forest:\")\n",
        "print(conf_matrix_rf)\n"
      ],
      "metadata": {
        "colab": {
          "base_uri": "https://localhost:8080/"
        },
        "id": "jKaWpiHK5_S-",
        "outputId": "eae26cd3-3789-4188-ea6a-7c1994ab4fb3"
      },
      "execution_count": null,
      "outputs": [
        {
          "output_type": "stream",
          "name": "stdout",
          "text": [
            "Confusion Matrix for Logistic Regression:\n",
            "[[75 27]\n",
            " [16 87]]\n",
            "Confusion Matrix for KNN:\n",
            "[[87 15]\n",
            " [12 91]]\n",
            "Confusion Matrix for SVM:\n",
            "[[76 26]\n",
            " [13 90]]\n",
            "Confusion Matrix for Gaussian Naive Bayes:\n",
            "[[59 43]\n",
            " [ 8 95]]\n",
            "Confusion Matrix for Decision Tree:\n",
            "[[102   0]\n",
            " [  3 100]]\n",
            "Confusion Matrix for Random Forest:\n",
            "[[102   0]\n",
            " [  3 100]]\n"
          ]
        }
      ]
    }
  ]
}